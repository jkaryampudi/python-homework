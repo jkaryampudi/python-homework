{
 "cells": [
  {
   "cell_type": "code",
   "execution_count": 23,
   "id": "107d2228-d7b9-46b9-9654-a8d8970a4372",
   "metadata": {},
   "outputs": [],
   "source": [
    "#Python Script to Analyse Financials"
   ]
  },
  {
   "cell_type": "code",
   "execution_count": 24,
   "id": "4bf5abd1-d963-497d-872d-69c19e2ee29a",
   "metadata": {},
   "outputs": [],
   "source": [
    "#Import Path library\n",
    "from pathlib import Path\n",
    "#Import CSV library\n",
    "import csv\n",
    "#Import Date library\n",
    "from datetime import datetime"
   ]
  },
  {
   "cell_type": "code",
   "execution_count": 25,
   "id": "b945f222-aafd-48d5-888c-1e7f1458d3ba",
   "metadata": {},
   "outputs": [],
   "source": [
    "#Set Budget Data CSV Path\n",
    "budget_csv = Path(\"budget_data.csv\")"
   ]
  },
  {
   "cell_type": "code",
   "execution_count": 26,
   "id": "07065a91-354d-4112-8788-ede0480a23e9",
   "metadata": {},
   "outputs": [],
   "source": [
    "#Initialise an array to store csv data list\n",
    "\n",
    "#budgetdata array initialisation to derive total profit/loss and total months\n",
    "budgetdata = []\n",
    "summary = 0\n",
    "#initialise change array to capture the change in price value each month\n",
    "change = [];\n",
    "maxdate = ''\n",
    "mindate = ''\n",
    "#Iterate through the csv data and push it to a list\n",
    "with open(budget_csv,'r') as file:\n",
    "    reader = csv.reader(file,delimiter=',')\n",
    "    # move the pointer away from csv header\n",
    "    header = next(reader)\n",
    "    index = 0\n",
    "    previousvalue = 0\n",
    "    maxchange = 0\n",
    "    minchange = 0\n",
    "    #iterate through the csv rows\n",
    "    for row in reader:\n",
    "        budgetdata.append(row)\n",
    "        summary = summary + int(row[1])\n",
    "        if(index == 0):\n",
    "            previousvalue = row[1]\n",
    "        if(index > 0):\n",
    "            #construct change price per month and append to change array\n",
    "            changedvalue = int(int(row[1]) - int(previousvalue))\n",
    "            change.append(changedvalue)\n",
    "            \n",
    "            #logic to get the greatest increase in profits and corresponding date\n",
    "            if(changedvalue > maxchange):\n",
    "                maxchange = changedvalue\n",
    "                maxdate = row[0]\n",
    "                \n",
    "            \n",
    "            #logic to get the greatest decrease in profits and corresponding date\n",
    "\n",
    "            if(changedvalue < minchange):\n",
    "                minchange = changedvalue\n",
    "                mindate = row[0]\n",
    "            previousvalue = int(row[1])\n",
    "        index = index + 1\n"
   ]
  },
  {
   "cell_type": "code",
   "execution_count": 27,
   "id": "aab70c2f-d4df-4d10-a990-65765dcefbc4",
   "metadata": {},
   "outputs": [
    {
     "name": "stdout",
     "output_type": "stream",
     "text": [
      "Financial Analysis\n",
      "----------------------------\n",
      "Total Months: 86\n",
      "Total: $38382578\n",
      "Average  Change: $-2315.12\n",
      "Greatest Increase in Profits: Feb-2012 1926159\n",
      "Greatest Decrease in Profits: Sep-2013 -2196167\n"
     ]
    }
   ],
   "source": [
    "print(\"Financial Analysis\")\n",
    "print(\"----------------------------\")\n",
    "print(f\"Total Months: {len(budgetdata)}\")\n",
    "print(f\"Total: ${summary}\")\n",
    "print(f\"Average  Change: ${round(sum(change)/len(change),2)}\")\n",
    "print(f\"Greatest Increase in Profits: {maxdate} {max(change)}\")\n",
    "print(f\"Greatest Decrease in Profits: {mindate} {min(change)}\")"
   ]
  },
  {
   "cell_type": "code",
   "execution_count": 30,
   "id": "73a97d68-3b7a-4516-8c03-97d5588ae906",
   "metadata": {},
   "outputs": [],
   "source": [
    "f = open(\"results.txt\", \"a\")\n",
    "now = datetime.now()\n",
    "dt_string = now.strftime(\"%d/%m/%Y %H:%M:%S\")\n",
    "f.write(f\"\\nFinancial Analysis Dated: {dt_string}\\n\")\n",
    "f.write(\"\\n\")\n",
    "f.write(\"----------------------------\\n\")\n",
    "f.write(f\"Total Months: {len(budgetdata)}\\n\")\n",
    "f.write(f\"Total: ${summary}\\n\")\n",
    "f.write(f\"Average  Change: ${round(sum(change)/len(change),2)}\\n\")\n",
    "f.write(f\"Greatest Increase in Profits: {maxdate} {max(change)}\\n\")\n",
    "f.write(f\"Greatest Decrease in Profits: {mindate} {min(change)}\\n\")\n",
    "f.close()"
   ]
  },
  {
   "cell_type": "code",
   "execution_count": null,
   "id": "c49401db-9281-4a4b-a3a8-710dc86de98b",
   "metadata": {},
   "outputs": [],
   "source": []
  }
 ],
 "metadata": {
  "kernelspec": {
   "display_name": "Python 3",
   "language": "python",
   "name": "python3"
  },
  "language_info": {
   "codemirror_mode": {
    "name": "ipython",
    "version": 3
   },
   "file_extension": ".py",
   "mimetype": "text/x-python",
   "name": "python",
   "nbconvert_exporter": "python",
   "pygments_lexer": "ipython3",
   "version": "3.7.10"
  }
 },
 "nbformat": 4,
 "nbformat_minor": 5
}
