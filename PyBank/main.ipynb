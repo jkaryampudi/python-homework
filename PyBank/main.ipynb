{
 "cells": [
  {
   "cell_type": "markdown",
   "id": "38582025-5502-4b6b-8ec8-a403deaa7137",
   "metadata": {},
   "source": [
    "#main "
   ]
  }
 ],
 "metadata": {
  "kernelspec": {
   "display_name": "Python 3",
   "language": "python",
   "name": "python3"
  },
  "language_info": {
   "codemirror_mode": {
    "name": "ipython",
    "version": 3
   },
   "file_extension": ".py",
   "mimetype": "text/x-python",
   "name": "python",
   "nbconvert_exporter": "python",
   "pygments_lexer": "ipython3",
   "version": "3.7.10"
  }
 },
 "nbformat": 4,
 "nbformat_minor": 5
}
